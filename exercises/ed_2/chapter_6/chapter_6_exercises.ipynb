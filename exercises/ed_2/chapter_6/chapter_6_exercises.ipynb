{
 "cells": [
  {
   "cell_type": "markdown",
   "metadata": {
    "toc": "true"
   },
   "source": [
    "# Table of Contents\n",
    " <p><div class=\"lev1 toc-item\"><a href=\"#Exercise-6.1.-Implementing-sigmoidal-Least-Squares-cost\" data-toc-modified-id=\"Exercise-6.1.-Implementing-sigmoidal-Least-Squares-cost-1\"><span class=\"toc-item-num\">1&nbsp;&nbsp;</span>Exercise 6.1. Implementing sigmoidal Least Squares cost</a></div><div class=\"lev1 toc-item\"><a href=\"#Exercise-6.3.-Implementing-the-Cross-Entropy-cost\" data-toc-modified-id=\"Exercise-6.3.-Implementing-the-Cross-Entropy-cost-2\"><span class=\"toc-item-num\">2&nbsp;&nbsp;</span>Exercise 6.3. Implementing the Cross Entropy cost</a></div><div class=\"lev1 toc-item\"><a href=\"#Exercise-6.7.-Implementing-the-Softmax-cost\" data-toc-modified-id=\"Exercise-6.7.-Implementing-the-Softmax-cost-3\"><span class=\"toc-item-num\">3&nbsp;&nbsp;</span>Exercise 6.7. Implementing the Softmax cost</a></div><div class=\"lev1 toc-item\"><a href=\"#Exercise-6.8.-Implementing-the-Log-Error-version-of-Softmax\" data-toc-modified-id=\"Exercise-6.8.-Implementing-the-Log-Error-version-of-Softmax-4\"><span class=\"toc-item-num\">4&nbsp;&nbsp;</span>Exercise 6.8. Implementing the Log Error version of Softmax</a></div><div class=\"lev1 toc-item\"><a href=\"#Exercise-6.9.-Using-gradient-descent-to-minimize-the-Perceptron-cost\" data-toc-modified-id=\"Exercise-6.9.-Using-gradient-descent-to-minimize-the-Perceptron-cost-5\"><span class=\"toc-item-num\">5&nbsp;&nbsp;</span>Exercise 6.9. Using gradient descent to minimize the Perceptron cost</a></div><div class=\"lev1 toc-item\"><a href=\"#Exercise-6.13.-Compare-the-efficacy-of-two-class-cost-functions-I\" data-toc-modified-id=\"Exercise-6.13.-Compare-the-efficacy-of-two-class-cost-functions-I-6\"><span class=\"toc-item-num\">6&nbsp;&nbsp;</span>Exercise 6.13. Compare the efficacy of two-class cost functions I</a></div><div class=\"lev1 toc-item\"><a href=\"#Exercise-6.14.-Compare-the-efficacy-of-two-class-cost-functions-II\" data-toc-modified-id=\"Exercise-6.14.-Compare-the-efficacy-of-two-class-cost-functions-II-7\"><span class=\"toc-item-num\">7&nbsp;&nbsp;</span>Exercise 6.14. Compare the efficacy of two-class cost functions II</a></div><div class=\"lev1 toc-item\"><a href=\"#Exercise-6.15.-Credit-check\" data-toc-modified-id=\"Exercise-6.15.-Credit-check-8\"><span class=\"toc-item-num\">8&nbsp;&nbsp;</span>Exercise 6.15. Credit check</a></div><div class=\"lev1 toc-item\"><a href=\"#Exercise-6.16.-Weighted-classification-and-balanced-accuracy\" data-toc-modified-id=\"Exercise-6.16.-Weighted-classification-and-balanced-accuracy-9\"><span class=\"toc-item-num\">9&nbsp;&nbsp;</span>Exercise 6.16. Weighted classification and balanced accuracy</a></div>"
   ]
  },
  {
   "cell_type": "code",
   "execution_count": 1,
   "metadata": {},
   "outputs": [],
   "source": [
    "# import autograd-wrapped numpy\n",
    "import autograd.numpy as np\n",
    "\n",
    "# datapath to data\n",
    "datapath = '/Users/sherryan/Downloads/'"
   ]
  },
  {
   "cell_type": "markdown",
   "metadata": {},
   "source": [
    "# Exercise 6.12. The regularized Softmax"
   ]
  },
  {
   "cell_type": "code",
   "execution_count": 64,
   "metadata": {},
   "outputs": [
    {
     "name": "stdout",
     "output_type": "stream",
     "text": [
      "(1, 11)\n",
      "(1, 11)\n"
     ]
    }
   ],
   "source": [
    "# load in data\n",
    "csvname = datapath + '2d_classification_data_v1.csv'\n",
    "data = np.loadtxt(csvname,delimiter = ',')\n",
    "\n",
    "# take input/output pairs from data\n",
    "x = data[:-1,:]\n",
    "y = data[-1:,:] \n",
    "\n",
    "print(np.shape(x))\n",
    "print(np.shape(y))"
   ]
  },
  {
   "cell_type": "code",
   "execution_count": 65,
   "metadata": {},
   "outputs": [],
   "source": [
    "from autograd import grad \n",
    "from autograd import hessian\n",
    "def newtons_method(g,max_its,w,**kwargs):\n",
    "    # compute gradient module using autograd\n",
    "    gradient = grad(g)\n",
    "    hess = hessian(g)\n",
    "    \n",
    "    # set numericxal stability parameter / regularization parameter\n",
    "    epsilon = 10**(-10)\n",
    "    if 'epsilon' in kwargs:\n",
    "        epsilon = kwargs['epsilon']\n",
    "\n",
    "    # run the newtons method loop\n",
    "    weight_history = [w]           # container for weight history\n",
    "    cost_history = [g(w)]          # container for corresponding cost function history\n",
    "    for k in range(max_its):\n",
    "        # evaluate the gradient and hessian\n",
    "        grad_eval = gradient(w)\n",
    "        hess_eval = hess(w)\n",
    "\n",
    "        # reshape hessian to square matrix for numpy linalg functionality\n",
    "        hess_eval.shape = (int((np.size(hess_eval))**(0.5)),int((np.size(hess_eval))**(0.5)))\n",
    "\n",
    "        # solve second order system system for weight update\n",
    "        A = hess_eval + epsilon*np.eye(w.size)\n",
    "        b = grad_eval\n",
    "        w = np.linalg.solve(A,np.dot(A,w) - b)\n",
    "        \n",
    "        # record weight and cost\n",
    "        weight_history.append(w)\n",
    "        cost_history.append(g(w))\n",
    "    return weight_history,cost_history"
   ]
  },
  {
   "cell_type": "code",
   "execution_count": 66,
   "metadata": {},
   "outputs": [],
   "source": [
    "def model(x,w):\n",
    "    a = w[0] + np.dot(x.T,w[1:])\n",
    "    return a.T\n",
    "def softmax(w):\n",
    "    lam = 10**(-3)\n",
    "    cost = np.sum(np.log(1+np.exp(-y*model(x,w)))) + lam * np.sum((w[1:]**2))\n",
    "    return cost/float(np.size(y))\n"
   ]
  },
  {
   "cell_type": "code",
   "execution_count": 67,
   "metadata": {},
   "outputs": [],
   "source": [
    "weight_history, cost_history = newtons_method(softmax,5,np.ones((2,1)))"
   ]
  },
  {
   "cell_type": "code",
   "execution_count": 68,
   "metadata": {},
   "outputs": [
    {
     "name": "stdout",
     "output_type": "stream",
     "text": [
      "0 misclassifications\n"
     ]
    }
   ],
   "source": [
    "true_labels = y\n",
    "pred_labels = np.sign(model(x,weight_history[-1]))\n",
    "misclass_count = np.size(np.argwhere(true_labels != pred_labels))\n",
    "print(misclass_count,'misclassifications')"
   ]
  },
  {
   "cell_type": "markdown",
   "metadata": {},
   "source": [
    "# Exercise 6.13. Compare the efficacy of two-class cost functions I"
   ]
  },
  {
   "cell_type": "markdown",
   "metadata": {},
   "source": [
    "Below we load in the breast cancer dataset -  [a description of which you can find here](https://archive.ics.uci.edu/ml/datasets/breast+cancer+wisconsin+(original)).  The input datapoints are stacked *column-wise* in this dataset, with the final row being the label of each point."
   ]
  },
  {
   "cell_type": "code",
   "execution_count": 69,
   "metadata": {},
   "outputs": [
    {
     "name": "stdout",
     "output_type": "stream",
     "text": [
      "(8, 699)\n",
      "(1, 699)\n"
     ]
    }
   ],
   "source": [
    "# data input\n",
    "csvname = datapath + 'breast_cancer_data.csv'\n",
    "data = np.loadtxt(csvname,delimiter = ',')\n",
    "\n",
    "# get input and output of dataset\n",
    "x = data[:-1,:]\n",
    "y = data[-1:,:] \n",
    "\n",
    "print(np.shape(x))\n",
    "print(np.shape(y))"
   ]
  },
  {
   "cell_type": "code",
   "execution_count": 70,
   "metadata": {},
   "outputs": [],
   "source": [
    "def gradient_descent(g, alpha, max_its, w):\n",
    "    gradient = grad(g)\n",
    "    \n",
    "    weight_history = [w]\n",
    "    cost_history = [g(w)]\n",
    "    for k in range(max_its):\n",
    "        grad_eval = gradient(w)\n",
    "        w = w - alpha*grad_eval\n",
    "        weight_history.append(w)\n",
    "        cost_history.append(g(w))\n",
    "    return weight_history, cost_history"
   ]
  },
  {
   "cell_type": "code",
   "execution_count": 71,
   "metadata": {},
   "outputs": [],
   "source": [
    "def model(x,w):\n",
    "    a = w[0] + np.dot(x.T,w[1:])\n",
    "    return a.T\n",
    "def softmax(w):\n",
    "    cost = np.sum(np.log(1+np.exp(-y*model(x,w))))\n",
    "    return cost/float(np.size(y))\n",
    "def perceptron(w):\n",
    "    cost = np.sum(np.maximum(0,-y * model(x,w)))\n",
    "    return cost/float(np.size(y))"
   ]
  },
  {
   "cell_type": "code",
   "execution_count": 104,
   "metadata": {},
   "outputs": [],
   "source": [
    "w = 0.01*np.random.rand(9,1)\n",
    "alpha = 1\n",
    "max_its = 1000\n",
    "weight_history_1,cost_history_1 = gradient_descent(softmax,alpha,max_its,w)\n",
    "weight_history_2,cost_history_2 = gradient_descent(perceptron,alpha,max_its,w)"
   ]
  },
  {
   "cell_type": "code",
   "execution_count": 105,
   "metadata": {},
   "outputs": [],
   "source": [
    "true_labels = y.flatten()\n",
    "\n",
    "sm_pred_labels = [np.sign(model(x,wh)) for wh in weight_history_1]\n",
    "pt_pred_labels = [np.sign(model(x,wh)) for wh in weight_history_2]\n",
    "\n",
    "sm_misclass = [np.size(np.argwhere(true_labels != pl.flatten())) for pl in sm_pred_labels]\n",
    "pt_misclass = [np.size(np.argwhere(true_labels != pl.flatten())) for pl in pt_pred_labels]"
   ]
  },
  {
   "cell_type": "code",
   "execution_count": 106,
   "metadata": {},
   "outputs": [
    {
     "name": "stdout",
     "output_type": "stream",
     "text": [
      "last step of softmax has 21 misclassification\n",
      "last step of perceptron has 21 misclassification\n"
     ]
    },
    {
     "data": {
      "image/png": "[encoded data removed]",
      "text/plain": [
       "<Figure size 640x480 with 1 Axes>"
      ]
     },
     "metadata": {},
     "output_type": "display_data"
    }
   ],
   "source": [
    "import matplotlib.pyplot as plt\n",
    "plt.plot(sm_misclass, label = 'softmax')\n",
    "plt.plot(pt_misclass, label = 'perceptron')\n",
    "plt.legend()\n",
    "plt.xlabel('step')\n",
    "plt.ylabel('misclassification')\n",
    "print('last step of softmax has',sm_misclass[-1],'misclassification')\n",
    "print('last step of perceptron has',pt_misclass[-1],'misclassification')\n",
    "\n"
   ]
  },
  {
   "cell_type": "markdown",
   "metadata": {
    "collapsed": true
   },
   "source": [
    "# Exercise 6.15. Credit check"
   ]
  },
  {
   "cell_type": "code",
   "execution_count": 123,
   "metadata": {},
   "outputs": [
    {
     "name": "stdout",
     "output_type": "stream",
     "text": [
      "(20, 1000)\n",
      "(1, 1000)\n"
     ]
    }
   ],
   "source": [
    "# load in dataset\n",
    "csvname = datapath + 'credit_dataset.csv'\n",
    "data = np.loadtxt(csvname,delimiter = ',')\n",
    "x = data[:-1,:]\n",
    "y = data[-1:,:] \n",
    "\n",
    "print(np.shape(x))\n",
    "print(np.shape(y))"
   ]
  },
  {
   "cell_type": "code",
   "execution_count": 124,
   "metadata": {},
   "outputs": [],
   "source": [
    "import scipy.stats as stats\n",
    "x = stats.zscore(x,axis = 1)"
   ]
  },
  {
   "cell_type": "code",
   "execution_count": 165,
   "metadata": {},
   "outputs": [],
   "source": [
    "alpha = 1\n",
    "max_its = 1000\n",
    "w = 1*np.random.rand(x.shape[0]+1,1)\n",
    "weight_history,cost_history = gradient_descent(perceptron, alpha, max_its,w)"
   ]
  },
  {
   "cell_type": "code",
   "execution_count": 166,
   "metadata": {},
   "outputs": [
    {
     "data": {
      "text/plain": [
       "Text(0, 0.5, 'classification accuracy')"
      ]
     },
     "execution_count": 166,
     "metadata": {},
     "output_type": "execute_result"
    },
    {
     "data": {
      "image/png": "[encoded data removed]",
      "text/plain": [
       "<Figure size 640x480 with 1 Axes>"
      ]
     },
     "metadata": {},
     "output_type": "display_data"
    }
   ],
   "source": [
    "true_labels = y.flatten()\n",
    "\n",
    "pred_labels = [np.sign(model(x,wh)) for wh in weight_history]\n",
    "acc_rate = [np.size(np.argwhere(true_labels == pl.flatten()))/y.shape[1] for pl in pred_labels]\n",
    "\n",
    "plt.plot(acc_rate)\n",
    "plt.xlabel('step')\n",
    "plt.ylabel('classification accuracy')"
   ]
  },
  {
   "cell_type": "code",
   "execution_count": 172,
   "metadata": {},
   "outputs": [
    {
     "name": "stdout",
     "output_type": "stream",
     "text": [
      "best classification accuracy achieved is 76.5 % at step 12\n"
     ]
    }
   ],
   "source": [
    "print('best classification accuracy achieved is',np.max(acc_rate)*100,'% at step',np.argmax(acc_rate))"
   ]
  },
  {
   "cell_type": "markdown",
   "metadata": {},
   "source": [
    "# Exercise 6.16. Weighted classification and balanced accuracy"
   ]
  },
  {
   "cell_type": "code",
   "execution_count": 213,
   "metadata": {},
   "outputs": [
    {
     "name": "stdout",
     "output_type": "stream",
     "text": [
      "(2, 55)\n",
      "(1, 55)\n"
     ]
    }
   ],
   "source": [
    "# data input\n",
    "csvname = datapath + '3d_classification_data_v2_mbalanced.csv'\n",
    "data1 = np.loadtxt(csvname,delimiter = ',')\n",
    "\n",
    "# get input and output of dataset\n",
    "x = data1[:-1,:]\n",
    "y = data1[-1:,:] \n",
    "\n",
    "print(np.shape(x))\n",
    "print(np.shape(y))"
   ]
  },
  {
   "cell_type": "code",
   "execution_count": 214,
   "metadata": {},
   "outputs": [],
   "source": [
    "class1_idx = np.argwhere(y.flatten()==-1).flatten()\n",
    "class2_idx = np.argwhere(y.flatten()==1).flatten()\n"
   ]
  },
  {
   "cell_type": "code",
   "execution_count": 226,
   "metadata": {},
   "outputs": [
    {
     "name": "stdout",
     "output_type": "stream",
     "text": [
      "beta=1, balanced_accuracy is 79.0 %\n",
      "accuracy is 94.54545454545455 %\n"
     ]
    }
   ],
   "source": [
    "def model(x,w):\n",
    "    a = w[0] + np.dot(x.T,w[1:])\n",
    "    return a.T\n",
    "def weighted_softmax(w):\n",
    "    cost = 0\n",
    "    beta = [1,1]\n",
    "    sigmoid = 1/(1+np.exp(-(model(x,w))))\n",
    "    cost -= beta[0]*np.sum(np.log(1-sigmoid[:,class1_idx]))\n",
    "    cost -= beta[1]*np.sum(np.log(sigmoid[:,class2_idx]))\n",
    "    return cost/float(y.size)\n",
    "w = np.random.rand(x.shape[0]+1, 1)\n",
    "weight_history, cost_history = newtons_method(weighted_softmax, 5,w)\n",
    "\n",
    "true_labels = y.flatten()\n",
    "pred_labels = np.sign(model(x,weight_history[-1])).flatten()                  \n",
    "class1_acc = np.size(np.argwhere(true_labels[class1_idx] == pred_labels[class1_idx].flatten()))/len(class1_idx)\n",
    "class2_acc = np.size(np.argwhere(true_labels[class2_idx] == pred_labels[class2_idx].flatten()))/len(class2_idx)\n",
    "\n",
    "balanced_acc = (class1_acc + class2_acc)/2\n",
    "print('beta=1, balanced_accuracy is',balanced_acc*100,'%')\n",
    "acc_rate = np.size(np.argwhere(true_labels == pred_labels))/y.shape[1]\n",
    "print('accuracy is',acc_rate*100,'%')"
   ]
  },
  {
   "cell_type": "code",
   "execution_count": 227,
   "metadata": {},
   "outputs": [
    {
     "name": "stdout",
     "output_type": "stream",
     "text": [
      "beta=5, balanced_accuracy is 87.0 %\n",
      "accuracy is 92.72727272727272 %\n"
     ]
    }
   ],
   "source": [
    "def model(x,w):\n",
    "    a = w[0] + np.dot(x.T,w[1:])\n",
    "    return a.T\n",
    "def weighted_softmax(w):\n",
    "    cost = 0\n",
    "    beta = [1,5]\n",
    "    sigmoid = 1/(1+np.exp(-(model(x,w))))\n",
    "    cost -= beta[0]*np.sum(np.log(1-sigmoid[:,class1_idx]))\n",
    "    cost -= beta[1]*np.sum(np.log(sigmoid[:,class2_idx]))\n",
    "    return cost/float(y.size)\n",
    "\n",
    "w = np.random.rand(x.shape[0]+1, 1)\n",
    "weight_history, cost_history = newtons_method(weighted_softmax, 5,w)\n",
    "\n",
    "true_labels = y.flatten()\n",
    "pred_labels = np.sign(model(x,weight_history[-1])).flatten()                  \n",
    "class1_acc = np.size(np.argwhere(true_labels[class1_idx] == pred_labels[class1_idx].flatten()))/len(class1_idx)\n",
    "class2_acc = np.size(np.argwhere(true_labels[class2_idx] == pred_labels[class2_idx].flatten()))/len(class2_idx)\n",
    "\n",
    "balanced_acc = (class1_acc + class2_acc)/2\n",
    "\n",
    "print('beta=5, balanced_accuracy is',balanced_acc*100,'%')\n",
    "acc_rate = np.size(np.argwhere(true_labels == pred_labels))/y.shape[1]\n",
    "print('accuracy is',acc_rate*100,'%')\n",
    "\n"
   ]
  },
  {
   "cell_type": "code",
   "execution_count": 228,
   "metadata": {},
   "outputs": [
    {
     "name": "stdout",
     "output_type": "stream",
     "text": [
      "beta=10, balanced_accuracy is 96.0 %\n",
      "accuracy is 92.72727272727272 %\n"
     ]
    }
   ],
   "source": [
    "def model(x,w):\n",
    "    a = w[0] + np.dot(x.T,w[1:])\n",
    "    return a.T\n",
    "def weighted_softmax(w):\n",
    "    cost = 0\n",
    "    beta = [1,10]\n",
    "    sigmoid = 1/(1+np.exp(-(model(x,w))))\n",
    "    cost -= beta[0]*np.sum(np.log(1-sigmoid[:,class1_idx]))\n",
    "    cost -= beta[1]*np.sum(np.log(sigmoid[:,class2_idx]))\n",
    "    return cost/float(y.size)\n",
    "\n",
    "w = np.random.rand(x.shape[0]+1, 1)\n",
    "weight_history, cost_history = newtons_method(weighted_softmax, 5,w)\n",
    "\n",
    "true_labels = y.flatten()\n",
    "pred_labels = np.sign(model(x,weight_history[-1])).flatten()                  \n",
    "class1_acc = np.size(np.argwhere(true_labels[class1_idx] == pred_labels[class1_idx].flatten()))/len(class1_idx)\n",
    "class2_acc = np.size(np.argwhere(true_labels[class2_idx] == pred_labels[class2_idx].flatten()))/len(class2_idx)\n",
    "\n",
    "balanced_acc = (class1_acc + class2_acc)/2\n",
    "print('beta=10, balanced_accuracy is',balanced_acc*100,'%')\n",
    "acc_rate = np.size(np.argwhere(true_labels == pred_labels))/y.shape[1]\n",
    "print('accuracy is',acc_rate*100,'%')\n"
   ]
  }
 ],
 "metadata": {
  "kernelspec": {
   "display_name": "sdt_env",
   "language": "python",
   "name": "sdt_env"
  },
  "language_info": {
   "codemirror_mode": {
    "name": "ipython",
    "version": 3
   },
   "file_extension": ".py",
   "mimetype": "text/x-python",
   "name": "python",
   "nbconvert_exporter": "python",
   "pygments_lexer": "ipython3",
   "version": "3.8.8"
  },
  "toc": {
   "colors": {
    "hover_highlight": "#DAA520",
    "navigate_num": "#000000",
    "navigate_text": "#333333",
    "running_highlight": "#FF0000",
    "selected_highlight": "#FFD700",
    "sidebar_border": "#EEEEEE",
    "wrapper_background": "#FFFFFF"
   },
   "moveMenuLeft": true,
   "nav_menu": {
    "height": "364.767px",
    "width": "252px"
   },
   "navigate_menu": true,
   "number_sections": false,
   "sideBar": false,
   "threshold": 4,
   "toc_cell": true,
   "toc_position": {
    "height": "315.867px",
    "left": "1px",
    "right": "1227px",
    "top": "116.267px",
    "width": "212px"
   },
   "toc_section_display": "block",
   "toc_window_display": false,
   "widenNotebook": false
  }
 },
 "nbformat": 4,
 "nbformat_minor": 2
}
